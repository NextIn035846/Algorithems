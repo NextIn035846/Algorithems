{
 "cells": [
  {
   "cell_type": "markdown",
   "metadata": {},
   "source": [
    "<aside>\n",
    "    \n",
    "💡 **Question 1**\n",
    "\n",
    "Given two strings s1 and s2, return *the lowest **ASCII** sum of deleted characters to make two strings equal*.\n",
    "\n",
    "**Example 1:**\n",
    "\n",
    "**Input:** s1 = \"sea\", s2 = \"eat\"\n",
    "\n",
    "**Output:** 231\n",
    "\n",
    "**Explanation:** Deleting \"s\" from \"sea\" adds the ASCII value of \"s\" (115) to the sum.\n",
    "\n",
    "Deleting \"t\" from \"eat\" adds 116 to the sum.\n",
    "\n",
    "At the end, both strings are equal, and 115 + 116 = 231 is the minimum sum possible to achieve this\n",
    "\n",
    "</aside>"
   ]
  },
  {
   "cell_type": "code",
   "execution_count": 1,
   "metadata": {},
   "outputs": [
    {
     "data": {
      "text/plain": [
       "231"
      ]
     },
     "execution_count": 1,
     "metadata": {},
     "output_type": "execute_result"
    }
   ],
   "source": [
    "def minimumDeleteSum(s1, s2):\n",
    "    m, n = len(s1), len(s2)\n",
    "    \n",
    "    # Create a 2D dp array with dimensions (m+1) x (n+1)\n",
    "    dp = [[0] * (n + 1) for _ in range(m + 1)]\n",
    "    \n",
    "    # Calculate the cumulative sum of ASCII values for string s1\n",
    "    for i in range(1, m + 1):\n",
    "        dp[i][0] = dp[i - 1][0] + ord(s1[i - 1])\n",
    "    \n",
    "    # Calculate the cumulative sum of ASCII values for string s2\n",
    "    for j in range(1, n + 1):\n",
    "        dp[0][j] = dp[0][j - 1] + ord(s2[j - 1])\n",
    "    \n",
    "    # Fill the dp array by comparing characters from s1 and s2\n",
    "    for i in range(1, m + 1):\n",
    "        for j in range(1, n + 1):\n",
    "            if s1[i - 1] == s2[j - 1]:\n",
    "                dp[i][j] = dp[i - 1][j - 1]\n",
    "            else:\n",
    "                dp[i][j] = min(\n",
    "                    dp[i - 1][j] + ord(s1[i - 1]),  # Delete character from s1\n",
    "                    dp[i][j - 1] + ord(s2[j - 1])   # Delete character from s2\n",
    "                )\n",
    "    \n",
    "    # Return the lowest ASCII sum of deleted characters\n",
    "    return dp[m][n]\n",
    "minimumDeleteSum(\"sea\",\"eat\")"
   ]
  },
  {
   "cell_type": "markdown",
   "metadata": {},
   "source": [
    "<aside>\n",
    "    \n",
    "💡 **Question 2**\n",
    "\n",
    "Given a string s containing only three types of characters: '(', ')' and '*', return true *if* s *is **valid***.\n",
    "\n",
    "The following rules define a **valid** string:\n",
    "\n",
    "- Any left parenthesis '(' must have a corresponding right parenthesis ')'.\n",
    "- Any right parenthesis ')' must have a corresponding left parenthesis '('.\n",
    "- Left parenthesis '(' must go before the corresponding right parenthesis ')'.\n",
    "- '*' could be treated as a single right parenthesis ')' or a single left parenthesis '(' or an empty string \"\".\n",
    "\n",
    "**Example 1:**\n",
    "\n",
    "**Input:** s = \"()\"\n",
    "\n",
    "**Output:**\n",
    "\n",
    "true\n",
    "\n",
    "</aside>"
   ]
  },
  {
   "cell_type": "code",
   "execution_count": 2,
   "metadata": {},
   "outputs": [
    {
     "data": {
      "text/plain": [
       "True"
      ]
     },
     "execution_count": 2,
     "metadata": {},
     "output_type": "execute_result"
    }
   ],
   "source": [
    "def checkValidString(s):\n",
    "    stack = []\n",
    "    star_stack = []\n",
    "    \n",
    "    for i, char in enumerate(s):\n",
    "        if char == '(':\n",
    "            stack.append(i)\n",
    "        elif char == '*':\n",
    "            star_stack.append(i)\n",
    "        else:  # char == ')'\n",
    "            if stack:\n",
    "                stack.pop()\n",
    "            elif star_stack:\n",
    "                star_stack.pop()\n",
    "            else:\n",
    "                return False\n",
    "    \n",
    "    # Match remaining '(' with '*' or discard them\n",
    "    while stack and star_stack:\n",
    "        if stack[-1] < star_stack[-1]:\n",
    "            stack.pop()\n",
    "            star_stack.pop()\n",
    "        else:\n",
    "            break\n",
    "    \n",
    "    return len(stack) == 0\n",
    "checkValidString(\"()\")"
   ]
  },
  {
   "cell_type": "markdown",
   "metadata": {},
   "source": [
    "<aside>\n",
    "    \n",
    "💡 **Question 3**\n",
    "\n",
    "Given two strings word1 and word2, return *the minimum number of **steps** required to make* word1 *and* word2 *the same*.\n",
    "\n",
    "In one **step**, you can delete exactly one character in either string.\n",
    "\n",
    "**Example 1:**\n",
    "\n",
    "**Input:** word1 = \"sea\", word2 = \"eat\"\n",
    "\n",
    "**Output:** 2\n",
    "\n",
    "**Explanation:** You need one step to make \"sea\" to \"ea\" and another step to make \"eat\" to \"ea\".\n",
    "\n",
    "</aside>"
   ]
  },
  {
   "cell_type": "code",
   "execution_count": 3,
   "metadata": {},
   "outputs": [
    {
     "data": {
      "text/plain": [
       "2"
      ]
     },
     "execution_count": 3,
     "metadata": {},
     "output_type": "execute_result"
    }
   ],
   "source": [
    "def minDistance(word1, word2):\n",
    "    m, n = len(word1), len(word2)\n",
    "    \n",
    "    # Create a 2D dp array with dimensions (m+1) x (n+1)\n",
    "    dp = [[0] * (n + 1) for _ in range(m + 1)]\n",
    "    \n",
    "    # Initialize the first row and first column of the dp array\n",
    "    for i in range(m + 1):\n",
    "        dp[i][0] = i\n",
    "    for j in range(n + 1):\n",
    "        dp[0][j] = j\n",
    "    \n",
    "    # Fill the dp array based on the characters in word1 and word2\n",
    "    for i in range(1, m + 1):\n",
    "        for j in range(1, n + 1):\n",
    "            if word1[i - 1] == word2[j - 1]:\n",
    "                dp[i][j] = dp[i - 1][j - 1]\n",
    "            else:\n",
    "                dp[i][j] = min(\n",
    "                    dp[i - 1][j] + 1,  # Delete character from word1\n",
    "                    dp[i][j - 1] + 1   # Delete character from word2\n",
    "                )\n",
    "    \n",
    "    # Return the minimum number of steps required\n",
    "    return dp[m][n]\n",
    "minDistance(\"sea\",\"eat\")"
   ]
  },
  {
   "cell_type": "markdown",
   "metadata": {},
   "source": [
    "<aside>\n",
    "    \n",
    "💡 **Question 4**\n",
    "\n",
    "You need to construct a binary tree from a string consisting of parenthesis and integers.\n",
    "\n",
    "The whole input represents a binary tree. It contains an integer followed by zero, one or two pairs of parenthesis. The integer represents the root's value and a pair of parenthesis contains a child binary tree with the same structure.\n",
    "You always start to construct the **left** child node of the parent first if it exists.\n",
    "\n",
    "</aside>"
   ]
  },
  {
   "cell_type": "code",
   "execution_count": 6,
   "metadata": {},
   "outputs": [
    {
     "name": "stdout",
     "output_type": "stream",
     "text": [
      "4 2 3 1 6 5 "
     ]
    }
   ],
   "source": [
    "\n",
    "class newNode:\n",
    "\tdef __init__(self, data):\n",
    "\t\tself.data = data\n",
    "\t\tself.left = self.right = None\n",
    "\n",
    "# This function is here just to test\n",
    "\n",
    "\n",
    "def preOrder(node):\n",
    "\tif (node == None):\n",
    "\t\treturn\n",
    "\tprint(node.data, end=' ')\n",
    "\tpreOrder(node.left)\n",
    "\tpreOrder(node.right)\n",
    "\n",
    "# function to return the index of\n",
    "# close parenthesis\n",
    "\n",
    "\n",
    "def findIndex(Str, si, ei):\n",
    "\tif (si > ei):\n",
    "\t\treturn -1\n",
    "\n",
    "\t# Inbuilt stack\n",
    "\ts = []\n",
    "\tfor i in range(si, ei + 1):\n",
    "\n",
    "\t\t# if open parenthesis, push it\n",
    "\t\tif (Str[i] == '('):\n",
    "\t\t\ts.append(Str[i])\n",
    "\n",
    "\t\t# if close parenthesis\n",
    "\t\telif (Str[i] == ')'):\n",
    "\t\t\tif (s[-1] == '('):\n",
    "\t\t\t\ts.pop(-1)\n",
    "\n",
    "\t\t\t\t# if stack is empty, this is\n",
    "\t\t\t\t# the required index\n",
    "\t\t\t\tif len(s) == 0:\n",
    "\t\t\t\t\treturn i\n",
    "\t# if not found return -1\n",
    "\treturn -1\n",
    "\n",
    "# function to conStruct tree from String\n",
    "\n",
    "\n",
    "def treeFromString(Str, si, ei):\n",
    "\n",
    "\t# Base case\n",
    "\tif (si > ei):\n",
    "\t\treturn None\n",
    "\n",
    "\t# new root\n",
    "\troot = newNode(ord(Str[si]) - ord('0'))\n",
    "\tindex = -1\n",
    "\n",
    "\t# if next char is '(' find the\n",
    "\t# index of its complement ')'\n",
    "\tif (si + 1 <= ei and Str[si + 1] == '('):\n",
    "\t\tindex = findIndex(Str, si + 1, ei)\n",
    "\n",
    "\t# if index found\n",
    "\tif (index != -1):\n",
    "\n",
    "\t\t# call for left subtree\n",
    "\t\troot.left = treeFromString(Str, si + 2,\n",
    "\t\t\t\t\t\t\t\tindex - 1)\n",
    "\n",
    "\t\t# call for right subtree\n",
    "\t\troot.right = treeFromString(Str, index + 2,\n",
    "\t\t\t\t\t\t\t\t\tei - 1)\n",
    "\treturn root\n",
    "\n",
    "\n",
    "# Driver Code\n",
    "if __name__ == '__main__':\n",
    "\tStr = \"4(2(3)(1))(6(5))\"\n",
    "\troot = treeFromString(Str, 0, len(Str) - 1)\n",
    "\tpreOrder(root)\n",
    "\n",
    "# This code is contributed by pranchalK\n"
   ]
  },
  {
   "cell_type": "markdown",
   "metadata": {},
   "source": [
    "<aside>\n",
    "    \n",
    "💡 **Question 5**\n",
    "\n",
    "Given an array of characters chars, compress it using the following algorithm:\n",
    "\n",
    "Begin with an empty string s. For each group of **consecutive repeating characters** in chars:\n",
    "\n",
    "- If the group's length is 1, append the character to s.\n",
    "- Otherwise, append the character followed by the group's length.\n",
    "\n",
    "The compressed string s **should not be returned separately**, but instead, be stored **in the input character array chars**. Note that group lengths that are 10 or longer will be split into multiple characters in chars.\n",
    "\n",
    "After you are done **modifying the input array,** return *the new length of the array*.\n",
    "\n",
    "You must write an algorithm that uses only constant extra space.\n",
    "\n",
    "**Example 1:**\n",
    "\n",
    "**Input:** chars = [\"a\",\"a\",\"b\",\"b\",\"c\",\"c\",\"c\"]\n",
    "\n",
    "**Output:** Return 6, and the first 6 characters of the input array should be: [\"a\",\"2\",\"b\",\"2\",\"c\",\"3\"]\n",
    "\n",
    "**Explanation:**\n",
    "\n",
    "The groups are \"aa\", \"bb\", and \"ccc\". This compresses to \"a2b2c3\".\n",
    "\n",
    "</aside>"
   ]
  },
  {
   "cell_type": "code",
   "execution_count": 10,
   "metadata": {},
   "outputs": [
    {
     "data": {
      "text/plain": [
       "6"
      ]
     },
     "execution_count": 10,
     "metadata": {},
     "output_type": "execute_result"
    }
   ],
   "source": [
    "def compress(chars):\n",
    "    # Initialize pointers and counter\n",
    "    read_ptr = 0\n",
    "    write_ptr = 0\n",
    "    count = 0\n",
    "\n",
    "    # Iterate over the characters\n",
    "    while read_ptr < len(chars):\n",
    "        # Current character and its count\n",
    "        curr_char = chars[read_ptr]\n",
    "        count = 0\n",
    "\n",
    "        # Count consecutive occurrences of curr_char\n",
    "        while read_ptr < len(chars) and chars[read_ptr] == curr_char:\n",
    "            read_ptr += 1\n",
    "            count += 1\n",
    "\n",
    "        # Write the compressed character and its count\n",
    "        chars[write_ptr] = curr_char\n",
    "        write_ptr += 1\n",
    "\n",
    "        if count > 1:\n",
    "            # Convert the count to a string and write it\n",
    "            count_str = str(count)\n",
    "            for digit in count_str:\n",
    "                chars[write_ptr] = digit\n",
    "                write_ptr += 1\n",
    "\n",
    "    return write_ptr\n",
    "compress(['a', 'a', 'b', 'b', 'c', 'c', 'c'])"
   ]
  },
  {
   "cell_type": "markdown",
   "metadata": {},
   "source": [
    "<aside>\n",
    "    \n",
    "💡 **Question 6**\n",
    "\n",
    "Given two strings s and p, return *an array of all the start indices of* p*'s anagrams in* s. You may return the answer in **any order**.\n",
    "\n",
    "An **Anagram** is a word or phrase formed by rearranging the letters of a different word or phrase, typically using all the original letters exactly once.\n",
    "\n",
    "**Example 1:**\n",
    "\n",
    "**Input:** s = \"cbaebabacd\", p = \"abc\"\n",
    "\n",
    "**Output:** [0,6]\n",
    "\n",
    "**Explanation:**\n",
    "\n",
    "The substring with start index = 0 is \"cba\", which is an anagram of \"abc\".\n",
    "\n",
    "The substring with start index = 6 is \"bac\", which is an anagram of \"abc\".\n",
    "\n",
    "</aside>"
   ]
  },
  {
   "cell_type": "code",
   "execution_count": 11,
   "metadata": {},
   "outputs": [
    {
     "data": {
      "text/plain": [
       "[0, 6]"
      ]
     },
     "execution_count": 11,
     "metadata": {},
     "output_type": "execute_result"
    }
   ],
   "source": [
    "from collections import Counter\n",
    "\n",
    "def findAnagrams(s, p):\n",
    "    result = []\n",
    "    p_freq = Counter(p)\n",
    "    window_freq = Counter(s[:len(p)])\n",
    "    \n",
    "    if window_freq == p_freq:\n",
    "        result.append(0)\n",
    "    \n",
    "    for i in range(1, len(s) - len(p) + 1):\n",
    "        if s[i - 1] in window_freq:\n",
    "            window_freq[s[i - 1]] -= 1\n",
    "            if window_freq[s[i - 1]] == 0:\n",
    "                del window_freq[s[i - 1]]\n",
    "        \n",
    "        if s[i + len(p) - 1] in window_freq:\n",
    "            window_freq[s[i + len(p) - 1]] += 1\n",
    "        else:\n",
    "            window_freq[s[i + len(p) - 1]] = 1\n",
    "        \n",
    "        if window_freq == p_freq:\n",
    "            result.append(i)\n",
    "    \n",
    "    return result\n",
    "findAnagrams(\"cbaebabacd\", \"abc\")"
   ]
  },
  {
   "cell_type": "markdown",
   "metadata": {},
   "source": [
    "<aside>\n",
    "    \n",
    "💡 **Question 7**\n",
    "\n",
    "Given an encoded string, return its decoded string.\n",
    "\n",
    "The encoding rule is: k[encoded_string], where the encoded_string inside the square brackets is being repeated exactly k times. Note that k is guaranteed to be a positive integer.\n",
    "\n",
    "You may assume that the input string is always valid; there are no extra white spaces, square brackets are well-formed, etc. Furthermore, you may assume that the original data does not contain any digits and that digits are only for those repeat numbers, k. For example, there will not be input like 3a or 2[4].\n",
    "\n",
    "The test cases are generated so that the length of the output will never exceed 105.\n",
    "\n",
    "**Example 1:**\n",
    "\n",
    "**Input:** s = \"3[a]2[bc]\"\n",
    "\n",
    "**Output:** \"aaabcbc\"\n",
    "\n",
    "</aside>"
   ]
  },
  {
   "cell_type": "code",
   "execution_count": 12,
   "metadata": {},
   "outputs": [
    {
     "data": {
      "text/plain": [
       "'aaabcbc'"
      ]
     },
     "execution_count": 12,
     "metadata": {},
     "output_type": "execute_result"
    }
   ],
   "source": [
    "def decodeString(s):\n",
    "    stack = []\n",
    "    curr_count = 0\n",
    "    curr_string = \"\"\n",
    "\n",
    "    for char in s:\n",
    "        if char.isdigit():\n",
    "            curr_count = curr_count * 10 + int(char)\n",
    "        elif char == \"[\":\n",
    "            stack.append(curr_count)\n",
    "            stack.append(curr_string)\n",
    "            curr_count = 0\n",
    "            curr_string = \"\"\n",
    "        elif char == \"]\":\n",
    "            prev_string = stack.pop()\n",
    "            prev_count = stack.pop()\n",
    "            curr_string = prev_string + prev_count * curr_string\n",
    "        else:\n",
    "            curr_string += char\n",
    "\n",
    "    return curr_string\n",
    "decodeString(\"3[a]2[bc]\")"
   ]
  },
  {
   "cell_type": "markdown",
   "metadata": {},
   "source": [
    "<aside>\n",
    "    \n",
    "💡 **Question 8**\n",
    "\n",
    "Given two strings s and goal, return true *if you can swap two letters in* s *so the result is equal to* goal*, otherwise, return* false*.*\n",
    "\n",
    "Swapping letters is defined as taking two indices i and j (0-indexed) such that i != j and swapping the characters at s[i] and s[j].\n",
    "\n",
    "- For example, swapping at indices 0 and 2 in \"abcd\" results in \"cbad\".\n",
    "\n",
    "**Example 1:**\n",
    "\n",
    "**Input:** s = \"ab\", goal = \"ba\"\n",
    "\n",
    "**Output:** true\n",
    "\n",
    "**Explanation:** You can swap s[0] = 'a' and s[1] = 'b' to get \"ba\", which is equal to goal.\n",
    "\n",
    "</aside>"
   ]
  },
  {
   "cell_type": "code",
   "execution_count": 13,
   "metadata": {},
   "outputs": [
    {
     "data": {
      "text/plain": [
       "True"
      ]
     },
     "execution_count": 13,
     "metadata": {},
     "output_type": "execute_result"
    }
   ],
   "source": [
    "def buddyStrings(s, goal):\n",
    "    # Check if the lengths of the strings are equal\n",
    "    if len(s) != len(goal):\n",
    "        return False\n",
    "\n",
    "    # Check if s and goal are identical\n",
    "    if s == goal:\n",
    "        # Check if there are at least two same characters in s\n",
    "        char_counts = set()\n",
    "        for char in s:\n",
    "            if char in char_counts:\n",
    "                return True\n",
    "            char_counts.add(char)\n",
    "        return False\n",
    "\n",
    "    # Find the indices with different characters\n",
    "    diff_indices = []\n",
    "    for i in range(len(s)):\n",
    "        if s[i] != goal[i]:\n",
    "            diff_indices.append(i)\n",
    "\n",
    "    # Check if there are exactly two different indices\n",
    "    if len(diff_indices) != 2:\n",
    "        return False\n",
    "\n",
    "    # Check if swapping characters at the different indices results in goal\n",
    "    i, j = diff_indices\n",
    "    return s[i] == goal[j] and s[j] == goal[i]\n",
    "buddyStrings(\"ab\",\"ba\")"
   ]
  },
  {
   "cell_type": "code",
   "execution_count": null,
   "metadata": {},
   "outputs": [],
   "source": []
  }
 ],
 "metadata": {
  "kernelspec": {
   "display_name": "Python 3",
   "language": "python",
   "name": "python3"
  },
  "language_info": {
   "codemirror_mode": {
    "name": "ipython",
    "version": 3
   },
   "file_extension": ".py",
   "mimetype": "text/x-python",
   "name": "python",
   "nbconvert_exporter": "python",
   "pygments_lexer": "ipython3",
   "version": "3.8.2"
  }
 },
 "nbformat": 4,
 "nbformat_minor": 4
}

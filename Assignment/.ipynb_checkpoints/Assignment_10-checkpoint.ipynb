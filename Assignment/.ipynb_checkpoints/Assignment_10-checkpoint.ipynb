{
 "cells": [
  {
   "cell_type": "markdown",
   "metadata": {},
   "source": [
    "<aside>\n",
    "    \n",
    "💡 **Question 1**\n",
    "\n",
    "Given an integer `n`, return *`true` if it is a power of three. Otherwise, return `false`*.\n",
    "\n",
    "An integer `n` is a power of three, if there exists an integer `x` such that `n == 3x`.\n",
    "\n",
    "</aside>"
   ]
  },
  {
   "cell_type": "code",
   "execution_count": 6,
   "metadata": {},
   "outputs": [
    {
     "data": {
      "text/plain": [
       "True"
      ]
     },
     "execution_count": 6,
     "metadata": {},
     "output_type": "execute_result"
    }
   ],
   "source": [
    "def is_power_of_three(n):\n",
    "    if n == 1:\n",
    "        return True\n",
    "    elif n <= 0 or n % 3 != 0:\n",
    "        return False\n",
    "    else:\n",
    "        return is_power_of_three(n // 3)\n",
    "\n",
    "is_power_of_three(27)"
   ]
  },
  {
   "cell_type": "markdown",
   "metadata": {},
   "source": [
    "<aside>\n",
    "    \n",
    "💡 **Question 2**\n",
    "\n",
    "You have a list `arr` of all integers in the range `[1, n]` sorted in a strictly increasing order. Apply the following algorithm on `arr`:\n",
    "\n",
    "- Starting from left to right, remove the first number and every other number afterward until you reach the end of the list.\n",
    "- Repeat the previous step again, but this time from right to left, remove the rightmost number and every other number from the remaining numbers.\n",
    "- Keep repeating the steps again, alternating left to right and right to left, until a single number remains.\n",
    "\n",
    "Given the integer `n`, return *the last number that remains in* `arr`.\n",
    "\n",
    "</aside>"
   ]
  },
  {
   "cell_type": "code",
   "execution_count": 10,
   "metadata": {},
   "outputs": [
    {
     "data": {
      "text/plain": [
       "6"
      ]
     },
     "execution_count": 10,
     "metadata": {},
     "output_type": "execute_result"
    }
   ],
   "source": [
    "def remove_numbers(arr, left_to_right):\n",
    "    if len(arr) == 1:\n",
    "        return arr[0]\n",
    "    \n",
    "    if left_to_right:\n",
    "        # Remove every other number starting from the second one\n",
    "        remaining = arr[1::2]\n",
    "        return remove_numbers(remaining, False)\n",
    "    else:\n",
    "        # Remove every other number starting from the last one\n",
    "        remaining = arr[:-1:2]\n",
    "        return remove_numbers(remaining, True)\n",
    "\n",
    "def last_remaining_number(n):\n",
    "    arr = list(range(1, n+1))\n",
    "    return remove_numbers(arr, True)\n",
    "last_remaining_number(9)"
   ]
  },
  {
   "cell_type": "markdown",
   "metadata": {},
   "source": [
    "<aside>\n",
    "    \n",
    "💡 **Question 3**\n",
    "\n",
    "****Given a set represented as a string, write a recursive code to print all subsets of it. The subsets can be printed in any order.\n",
    "\n",
    "**Example 1:**\n",
    "\n",
    "Input :  set = “abc”\n",
    "\n",
    "Output : { “”, “a”, “b”, “c”, “ab”, “ac”, “bc”, “abc”}\n",
    "\n",
    "**Example 2:**\n",
    "\n",
    "Input : set = “abcd”\n",
    "\n",
    "Output : { “”, “a” ,”ab” ,”abc” ,”abcd”, “abd” ,”ac” ,”acd”, “ad” ,”b”, “bc” ,”bcd” ,”bd” ,”c” ,”cd” ,”d” }\n",
    "\n",
    "</aside>"
   ]
  },
  {
   "cell_type": "code",
   "execution_count": 12,
   "metadata": {},
   "outputs": [
    {
     "name": "stdout",
     "output_type": "stream",
     "text": [
      "\n",
      "d\n",
      "c\n",
      "cd\n",
      "b\n",
      "bd\n",
      "bc\n",
      "bcd\n",
      "a\n",
      "ad\n",
      "ac\n",
      "acd\n",
      "ab\n",
      "abd\n",
      "abc\n",
      "abcd\n"
     ]
    }
   ],
   "source": [
    "def print_subsets(s, curr_subset, index):\n",
    "    if index == len(s):\n",
    "        print(curr_subset)\n",
    "        return\n",
    "\n",
    "    print_subsets(s, curr_subset, index + 1)  # Exclude current character\n",
    "\n",
    "    # Include current character in the subset\n",
    "    curr_subset += s[index]\n",
    "    print_subsets(s, curr_subset, index + 1)\n",
    "\n",
    "    # Backtrack: Remove the last character to restore the subset\n",
    "    curr_subset = curr_subset[:-1]\n",
    "\n",
    "def print_all_subsets(s):\n",
    "    curr_subset = \"\"\n",
    "    index = 0\n",
    "    print_subsets(s, curr_subset, index)\n",
    "\n",
    "# Example usage\n",
    "string = \"abcd\"\n",
    "print_all_subsets(string)\n"
   ]
  },
  {
   "cell_type": "markdown",
   "metadata": {},
   "source": [
    "<aside>\n",
    "    \n",
    "💡 **Question 4**\n",
    "\n",
    "Given a string calculate length of the string using recursion.\n",
    "\n",
    "**Examples:**\n",
    "\n",
    "</aside>"
   ]
  },
  {
   "cell_type": "code",
   "execution_count": 13,
   "metadata": {},
   "outputs": [
    {
     "name": "stdout",
     "output_type": "stream",
     "text": [
      "13\n"
     ]
    }
   ],
   "source": [
    "def calculate_length(s):\n",
    "    if s == \"\":\n",
    "        return 0\n",
    "    else:\n",
    "        return 1 + calculate_length(s[1:])\n",
    "\n",
    "# Example usage\n",
    "string = \"GEEKSFORGEEKS\"\n",
    "length = calculate_length(string)\n",
    "print(length) \n"
   ]
  },
  {
   "cell_type": "markdown",
   "metadata": {},
   "source": [
    "<aside>\n",
    "    \n",
    "💡 **Question 5**\n",
    "\n",
    "We are given a string S, we need to find count of all contiguous substrings starting and ending with same character.\n",
    "\n",
    "</aside>"
   ]
  },
  {
   "cell_type": "code",
   "execution_count": 14,
   "metadata": {},
   "outputs": [
    {
     "name": "stdout",
     "output_type": "stream",
     "text": [
      "7\n"
     ]
    }
   ],
   "source": [
    "def count_contiguous_substrings(S):\n",
    "    count = 0\n",
    "    for i in range(len(S)):\n",
    "        for j in range(i, len(S)):\n",
    "            if S[i] == S[j]:\n",
    "                count += 1\n",
    "    return count\n",
    "\n",
    "# Example usage\n",
    "string = \"abcab\"\n",
    "count = count_contiguous_substrings(string)\n",
    "print(count)  \n"
   ]
  },
  {
   "cell_type": "markdown",
   "metadata": {},
   "source": [
    "<aside>\n",
    "    \n",
    "💡 **Question 6**\n",
    "\n",
    "The [tower of Hanoi](https://en.wikipedia.org/wiki/Tower_of_Hanoi) is a famous puzzle where we have three rods and **N** disks. The objective of the puzzle is to move the entire stack to another rod. You are given the number of discs **N**. Initially, these discs are in the rod 1. You need to print all the steps of discs movement so that all the discs reach the 3rd rod. Also, you need to find the total moves.**Note:** The discs are arranged such that the **top disc is numbered 1** and the **bottom-most disc is numbered N**. Also, all the discs have **different sizes** and a bigger disc **cannot** be put on the top of a smaller disc. Refer the provided link to get a better clarity about the puzzle.\n",
    "\n",
    "</aside>"
   ]
  },
  {
   "cell_type": "code",
   "execution_count": 15,
   "metadata": {},
   "outputs": [
    {
     "name": "stdout",
     "output_type": "stream",
     "text": [
      "Move disk 1 from rod 1 to rod 3\n",
      "Move disk 2 from rod 1 to rod 2\n",
      "Move disk 1 from rod 3 to rod 2\n",
      "Move disk 3 from rod 1 to rod 3\n",
      "Move disk 1 from rod 2 to rod 1\n",
      "Move disk 2 from rod 2 to rod 3\n",
      "Move disk 1 from rod 1 to rod 3\n",
      "Total moves required: 7\n"
     ]
    }
   ],
   "source": [
    "def tower_of_hanoi(n, source, destination, auxiliary):\n",
    "    if n == 1:\n",
    "        print(f\"Move disk 1 from rod {source} to rod {destination}\")\n",
    "        return 1\n",
    "\n",
    "    moves = 0\n",
    "\n",
    "    moves += tower_of_hanoi(n - 1, source, auxiliary, destination)\n",
    "    print(f\"Move disk {n} from rod {source} to rod {destination}\")\n",
    "    moves += 1\n",
    "    moves += tower_of_hanoi(n - 1, auxiliary, destination, source)\n",
    "\n",
    "    return moves\n",
    "\n",
    "# Example usage\n",
    "n = 3\n",
    "total_moves = tower_of_hanoi(n, 1, 3, 2)\n",
    "print(f\"Total moves required: {total_moves}\")\n"
   ]
  },
  {
   "cell_type": "markdown",
   "metadata": {},
   "source": [
    "<aside>\n",
    "    \n",
    "💡 **Question 7**\n",
    "\n",
    "Given a string **str**, the task is to print all the permutations of **str**. A **permutation** is an arrangement of all or part of a set of objects, with regard to the order of the arrangement. For instance, the words ‘bat’ and ‘tab’ represents two distinct permutation (or arrangements) of a similar three letter word.\n",
    "\n",
    "**Examples:**\n",
    "\n",
    "> Input: str = “cd”\n",
    "> \n",
    "> \n",
    "> **Output:** cd dc\n",
    "> \n",
    "> **Input:** str = “abb”\n",
    "> \n",
    "> **Output:** abb abb bab bba bab bba\n",
    "> \n",
    "</aside>"
   ]
  },
  {
   "cell_type": "code",
   "execution_count": 16,
   "metadata": {},
   "outputs": [
    {
     "name": "stdout",
     "output_type": "stream",
     "text": [
      "abb\n",
      "abb\n",
      "bab\n",
      "bba\n",
      "bba\n",
      "bab\n"
     ]
    }
   ],
   "source": [
    "def swap(s, i, j):\n",
    "    # Utility function to swap characters at positions i and j in the string\n",
    "    lst = list(s)\n",
    "    lst[i], lst[j] = lst[j], lst[i]\n",
    "    return ''.join(lst)\n",
    "\n",
    "def permute(s, l, r):\n",
    "    if l == r:\n",
    "        print(s)  # Print the permutation\n",
    "    else:\n",
    "        for i in range(l, r + 1):\n",
    "            s = swap(s, l, i)  # Swap the current character with the first character\n",
    "            permute(s, l + 1, r)  # Recursively generate permutations for the remaining characters\n",
    "            s = swap(s, l, i)  # Backtrack: Restore the original order\n",
    "\n",
    "def print_permutations(str):\n",
    "    n = len(str)\n",
    "    permute(str, 0, n - 1)\n",
    "\n",
    "# Example usage\n",
    "string = \"abb\"\n",
    "print_permutations(string)\n"
   ]
  },
  {
   "cell_type": "markdown",
   "metadata": {},
   "source": [
    "<aside>\n",
    "    \n",
    "💡 **Question 8**\n",
    "\n",
    "Given a string, count total number of consonants in it. A consonant is an English alphabet character that is not vowel (a, e, i, o and u). Examples of constants are b, c, d, f, and g.\n",
    "\n",
    "</aside>"
   ]
  },
  {
   "cell_type": "code",
   "execution_count": 17,
   "metadata": {},
   "outputs": [
    {
     "name": "stdout",
     "output_type": "stream",
     "text": [
      "3\n"
     ]
    }
   ],
   "source": [
    "def count_consonants(s):\n",
    "    consonant_count = 0\n",
    "    vowels = ['a', 'e', 'i', 'o', 'u']\n",
    "\n",
    "    for char in s:\n",
    "        if char.isalpha() and char.lower() not in vowels:\n",
    "            consonant_count += 1\n",
    "\n",
    "    return consonant_count\n",
    "\n",
    "# Example usage\n",
    "string = \"abc de\"\n",
    "count = count_consonants(string)\n",
    "print(count)  \n"
   ]
  },
  {
   "cell_type": "code",
   "execution_count": null,
   "metadata": {},
   "outputs": [],
   "source": []
  }
 ],
 "metadata": {
  "kernelspec": {
   "display_name": "Python 3",
   "language": "python",
   "name": "python3"
  },
  "language_info": {
   "codemirror_mode": {
    "name": "ipython",
    "version": 3
   },
   "file_extension": ".py",
   "mimetype": "text/x-python",
   "name": "python",
   "nbconvert_exporter": "python",
   "pygments_lexer": "ipython3",
   "version": "3.8.2"
  }
 },
 "nbformat": 4,
 "nbformat_minor": 4
}
